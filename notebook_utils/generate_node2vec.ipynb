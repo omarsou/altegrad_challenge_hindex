{
 "cells": [
  {
   "cell_type": "markdown",
   "metadata": {},
   "source": [
    "**As it is written in the title, in this notebook we generate embedding for each node by training a Node2Vec model. <br> Source : [Nodevectors Github](https://github.com/VHRanger/nodevectors)**"
   ]
  },
  {
   "cell_type": "code",
   "execution_count": null,
   "metadata": {},
   "outputs": [],
   "source": [
    "!pip install nodevectors"
   ]
  },
  {
   "cell_type": "code",
   "execution_count": null,
   "metadata": {},
   "outputs": [],
   "source": [
    "import networkx as nx\n",
    "import gzip\n",
    "import pickle\n",
    "import os\n",
    "\n",
    "def save(object, filename, protocol = 0):\n",
    "        \"\"\"Saves a compressed object to disk\n",
    "        \"\"\"\n",
    "        file = gzip.GzipFile(filename, 'wb')\n",
    "        file.write(pickle.dumps(object, protocol))\n",
    "        file.close()"
   ]
  },
  {
   "cell_type": "code",
   "execution_count": null,
   "metadata": {},
   "outputs": [],
   "source": [
    "G = nx.read_edgelist('/content/drive/MyDrive/altegrad_datachallenge/collaboration_network.edgelist', delimiter=' ', nodetype=int)\n",
    "g2v = Node2Vec(n_components=128, walklen=60, threads=os.cpu_count(), w2vparams={'window': 10, 'negative':5, 'iter': 20, 'batch_words':128})\n",
    "\n",
    "g2v.fit(G) # It took about 7 hours\n"
   ]
  },
  {
   "cell_type": "code",
   "execution_count": null,
   "metadata": {},
   "outputs": [],
   "source": [
    "emb_per_nodes = {}\n",
    "for node in tqdm(list(G.nodes())):\n",
    "    emb_per_nodes[node] = g2v.predict(node)\n",
    "save(emb_per_nodes, '/content/drive/MyDrive/altegrad_datachallenge/Node2Vec.txt') # Save the node embedding\n",
    "g2v.save('/content/drive/MyDrive/altegrad_datachallenge/node2vecmodel') # save the node embedding model"
   ]
  }
 ],
 "metadata": {
  "kernelspec": {
   "display_name": "Python 3",
   "language": "python",
   "name": "python3"
  },
  "language_info": {
   "codemirror_mode": {
    "name": "ipython",
    "version": 3
   },
   "file_extension": ".py",
   "mimetype": "text/x-python",
   "name": "python",
   "nbconvert_exporter": "python",
   "pygments_lexer": "ipython3",
   "version": "3.8.3"
  },
  "latex_envs": {
   "LaTeX_envs_menu_present": true,
   "autoclose": false,
   "autocomplete": true,
   "bibliofile": "biblio.bib",
   "cite_by": "apalike",
   "current_citInitial": 1,
   "eqLabelWithNumbers": true,
   "eqNumInitial": 1,
   "hotkeys": {
    "equation": "Ctrl-E",
    "itemize": "Ctrl-I"
   },
   "labels_anchors": false,
   "latex_user_defs": false,
   "report_style_numbering": false,
   "user_envs_cfg": false
  },
  "toc": {
   "base_numbering": 1,
   "nav_menu": {},
   "number_sections": true,
   "sideBar": true,
   "skip_h1_title": false,
   "title_cell": "Table of Contents",
   "title_sidebar": "Contents",
   "toc_cell": false,
   "toc_position": {},
   "toc_section_display": true,
   "toc_window_display": false
  }
 },
 "nbformat": 4,
 "nbformat_minor": 4
}
