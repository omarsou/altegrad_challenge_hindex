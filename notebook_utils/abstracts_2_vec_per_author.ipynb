{
 "cells": [
  {
   "cell_type": "markdown",
   "metadata": {},
   "source": [
    "**In this notebook, we embed the abstract of the papers into a low dimensional space (using either sentencetransformers library or doc2vec from Gensim) and associate to each author his abstracts embedding**"
   ]
  },
  {
   "cell_type": "code",
   "execution_count": null,
   "metadata": {},
   "outputs": [],
   "source": [
    "!pip install -U sentence-transformers"
   ]
  },
  {
   "cell_type": "code",
   "execution_count": null,
   "metadata": {},
   "outputs": [],
   "source": [
    "from tqdm import tqdm_notebook as tqdm\n",
    "from sentence_transformers import SentenceTransformer\n",
    "import pandas as pd\n",
    "import gzip\n",
    "import pickle\n",
    "import numpy as np\n",
    "import torch\n",
    "from gensim.models.doc2vec import Doc2Vec, TaggedDocument\n",
    "from string import digits, ascii_letters, punctuation, printable\n",
    "import nltk\n",
    "from nltk.corpus import stopwords \n",
    "nltk.download('stopwords')"
   ]
  },
  {
   "cell_type": "code",
   "execution_count": 1,
   "metadata": {
    "ExecuteTime": {
     "end_time": "2021-03-01T18:03:40.733359Z",
     "start_time": "2021-03-01T18:03:40.724493Z"
    }
   },
   "outputs": [],
   "source": [
    "def save(object, filename, protocol = 0):\n",
    "        \"\"\"Saves a compressed object to disk\n",
    "        \"\"\"\n",
    "        file = gzip.GzipFile(filename, 'wb')\n",
    "        file.write(pickle.dumps(object, protocol))\n",
    "        file.close()\n",
    "def load_dataset_file(filename):\n",
    "    with gzip.open(filename, \"rb\") as f:\n",
    "        loaded_object = pickle.load(f)\n",
    "        return loaded_object"
   ]
  },
  {
   "cell_type": "markdown",
   "metadata": {},
   "source": [
    "# Load Abstracts"
   ]
  },
  {
   "cell_type": "code",
   "execution_count": null,
   "metadata": {},
   "outputs": [],
   "source": [
    "tmp = load_dataset_file('/content/drive/MyDrive/altegrad_datachallenge/files_generated/preprocess_abstracts.txt')\n",
    "## Cleaning V2 (before conditioned on word with  word.isalpha() as a condition)\n",
    "valid = ascii_letters + digits + punctuation + printable\n",
    "paper_id = []\n",
    "text = []\n",
    "for key in tqdm(tmp.keys()):\n",
    "    txt = ''.join([char for char in tmp[key] if char in valid])\n",
    "    if len(txt) > 0:\n",
    "        paper_id.append(key)\n",
    "        text.append(txt)"
   ]
  },
  {
   "cell_type": "markdown",
   "metadata": {},
   "source": [
    "# Abstract Embedding"
   ]
  },
  {
   "cell_type": "markdown",
   "metadata": {},
   "source": [
    "## STSB Roberta Base"
   ]
  },
  {
   "cell_type": "code",
   "execution_count": null,
   "metadata": {},
   "outputs": [],
   "source": [
    "model = SentenceTransformer('stsb-roberta-base')\n",
    "model.cuda()\n",
    "embeddings = model.encode(text)"
   ]
  },
  {
   "cell_type": "code",
   "execution_count": null,
   "metadata": {},
   "outputs": [],
   "source": [
    "emb_per_paper = {}\n",
    "for idx, id in enumerate(paper_id):\n",
    "    emb_per_paper[id] = embeddings[idx]\n",
    "save(emb_per_paper, '/content/drive/MyDrive/altegrad_datachallenge/embedding_per_paper_clean.txt')"
   ]
  },
  {
   "cell_type": "markdown",
   "metadata": {},
   "source": [
    "## Doc2Vec"
   ]
  },
  {
   "cell_type": "code",
   "execution_count": null,
   "metadata": {},
   "outputs": [],
   "source": [
    "stop_words = set(stopwords.words('english')) \n",
    "doc = []\n",
    "for txt in tqdm(text):\n",
    "    p = txt.split()\n",
    "    p_clean = [l for l in p if l not in stop_words]\n",
    "    doc.append(p_clean)\n",
    "del text\n",
    "\n",
    "tagged_data = [TaggedDocument(d, [i]) for i, d in enumerate(doc)]\n",
    "model = Doc2Vec(tagged_data, vector_size = 256, window = 5, min_count = 2, epochs = 100, workers=10)"
   ]
  },
  {
   "cell_type": "code",
   "execution_count": null,
   "metadata": {},
   "outputs": [],
   "source": [
    "# Save the embedding\n",
    "emb_per_paper = {}\n",
    "for idx, id_ in tqdm(enumerate(paper_id)):\n",
    "    emb_per_paper[id_] = model.docvecs[idx]\n",
    "model.save('/content/drive/MyDrive/altegrad_datachallenge/word2vec.model') # Saving the model\n",
    "save(emb_per_paper, '/content/drive/MyDrive/altegrad_datachallenge/doc2vec_paper_embedding.txt') # Saving the embedding"
   ]
  },
  {
   "cell_type": "markdown",
   "metadata": {},
   "source": [
    "# Abstract Per Author Embedding\n",
    "Associate each author with his articles"
   ]
  },
  {
   "cell_type": "code",
   "execution_count": null,
   "metadata": {},
   "outputs": [],
   "source": [
    "# read the file to create a dictionary with author key and paper list as value\n",
    "f = open(\"/content/drive/MyDrive/altegrad_datachallenge/author_papers.txt\",\"r\")\n",
    "papers_set = set()\n",
    "d = {}\n",
    "for l in f:\n",
    "    auth_paps = [paper_id.strip() for paper_id in l.split(\":\")[1].replace(\"[\",\"\").replace(\"]\",\"\").replace(\"\\n\",\"\").replace(\"\\'\",\"\").replace(\"\\\"\",\"\").split(\",\")]\n",
    "    d[l.split(\":\")[0]] = auth_paps"
   ]
  },
  {
   "cell_type": "markdown",
   "metadata": {},
   "source": [
    "## Using Roberta Embedding"
   ]
  },
  {
   "cell_type": "code",
   "execution_count": null,
   "metadata": {},
   "outputs": [],
   "source": [
    "emb_per_paper = load_dataset_file('/content/drive/MyDrive/altegrad_datachallenge/embedding_per_paper_clean.txt')\n",
    "df = open(\"/content/drive/MyDrive/altegrad_datachallenge/author_embedding_clean.csv\",\"w\")\n",
    "for id_author in tqdm(d.keys()):\n",
    "    tot_embedding = np.zeros(768)\n",
    "    c = 0\n",
    "    for id_paper in d[id_author]:\n",
    "        try:\n",
    "            tot_embedding += emb_per_paper[id_paper]\n",
    "            c += 1\n",
    "        except KeyError:\n",
    "            continue\n",
    "    if c==0:\n",
    "        c=1\n",
    "    tot_embeddding = np.append(tot_embedding/c, c)\n",
    "    df.write(id_author+\",\"+\",\".join(map(lambda x:\"{:.8f}\".format(round(x, 8)), tot_embedding))+\"\\n\")\n",
    "df.close()"
   ]
  },
  {
   "cell_type": "markdown",
   "metadata": {},
   "source": [
    "## Using Doc2Vec"
   ]
  },
  {
   "cell_type": "code",
   "execution_count": null,
   "metadata": {},
   "outputs": [],
   "source": [
    "emb_per_paper = load_dataset_file('/content/drive/MyDrive/altegrad_datachallenge/doc2vec_paper_embedding.txt')\n",
    "df = open(\"/content/drive/MyDrive/altegrad_datachallenge/doc2vec_author_embedding.csv\",\"w\")\n",
    "for id_author in tqdm(d.keys()):\n",
    "    tot_embedding = np.zeros(256)\n",
    "    c = 0\n",
    "    for id_paper in d[id_author]:\n",
    "        try:\n",
    "            tot_embedding += emb_per_paper[id_paper]\n",
    "            c += 1\n",
    "        except KeyError:\n",
    "            continue\n",
    "    if c==0:\n",
    "        c=1\n",
    "    tot_embeddding = np.append(tot_embedding/c, c)\n",
    "    df.write(id_author+\",\"+\",\".join(map(lambda x:\"{:.8f}\".format(round(x, 8)), tot_embedding))+\"\\n\")\n",
    "df.close()"
   ]
  }
 ],
 "metadata": {
  "kernelspec": {
   "display_name": "Python 3",
   "language": "python",
   "name": "python3"
  },
  "language_info": {
   "codemirror_mode": {
    "name": "ipython",
    "version": 3
   },
   "file_extension": ".py",
   "mimetype": "text/x-python",
   "name": "python",
   "nbconvert_exporter": "python",
   "pygments_lexer": "ipython3",
   "version": "3.8.3"
  },
  "latex_envs": {
   "LaTeX_envs_menu_present": true,
   "autoclose": false,
   "autocomplete": true,
   "bibliofile": "biblio.bib",
   "cite_by": "apalike",
   "current_citInitial": 1,
   "eqLabelWithNumbers": true,
   "eqNumInitial": 1,
   "hotkeys": {
    "equation": "Ctrl-E",
    "itemize": "Ctrl-I"
   },
   "labels_anchors": false,
   "latex_user_defs": false,
   "report_style_numbering": false,
   "user_envs_cfg": false
  },
  "toc": {
   "base_numbering": 1,
   "nav_menu": {},
   "number_sections": true,
   "sideBar": true,
   "skip_h1_title": false,
   "title_cell": "Table of Contents",
   "title_sidebar": "Contents",
   "toc_cell": false,
   "toc_position": {},
   "toc_section_display": true,
   "toc_window_display": false
  }
 },
 "nbformat": 4,
 "nbformat_minor": 4
}
