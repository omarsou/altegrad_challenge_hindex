{
 "cells": [
  {
   "cell_type": "markdown",
   "metadata": {},
   "source": [
    "**This notebook is made in order to process the abstract. <br>\n",
    "The format of the text in the abstract is not suited for being processed by models (doc2vec, bert etc ...)**"
   ]
  },
  {
   "cell_type": "code",
   "execution_count": null,
   "metadata": {},
   "outputs": [],
   "source": [
    "from tqdm import tqdm_notebook as tqdm\n",
    "import ast\n",
    "import re\n",
    "import gzip\n",
    "import pickle"
   ]
  },
  {
   "cell_type": "code",
   "execution_count": null,
   "metadata": {},
   "outputs": [],
   "source": [
    "def save(object, filename, protocol = 0):\n",
    "        \"\"\"Saves a compressed object to disk\n",
    "        \"\"\"\n",
    "        file = gzip.GzipFile(filename, 'wb')\n",
    "        file.write(pickle.dumps(object, protocol))\n",
    "        file.close()"
   ]
  },
  {
   "cell_type": "code",
   "execution_count": null,
   "metadata": {},
   "outputs": [],
   "source": [
    "## Reformatting and Cleaning\n",
    "f = open(\"/content/drive/MyDrive/altegrad_datachallenge/data/abstracts.txt\",\"r\")\n",
    "pattern = re.compile(r'(,){2,}')\n",
    "dic = {}\n",
    "for l in tqdm(f):\n",
    "    if (l==\"\\n\"):\n",
    "        continue\n",
    "    id = l.split(\"----\")[0]\n",
    "    inv = \"\".join(l.split(\"----\")[1:])\n",
    "    res = ast.literal_eval(inv) \n",
    "    abstract =[ \"\" for i in range(res[\"IndexLength\"])]\n",
    "    inv_indx=  res[\"InvertedIndex\"]\n",
    "    for i in inv_indx:\n",
    "        for j in inv_indx[i]:\n",
    "            abstract[j] = i.lower()\n",
    "    abstract = re.sub(pattern, ',', \",\".join(abstract))\n",
    "    dic[id] = abstract\n",
    "for key in tqdm(dic.keys()):\n",
    "    dic[key] = dic[key].replace(',',' ')"
   ]
  },
  {
   "cell_type": "code",
   "execution_count": null,
   "metadata": {},
   "outputs": [],
   "source": [
    "# Saving\n",
    "save(dic, \"/content/drive/MyDrive/altegrad_datachallenge/preprocess_abstracts.txt\")"
   ]
  }
 ],
 "metadata": {
  "kernelspec": {
   "display_name": "Python 3",
   "language": "python",
   "name": "python3"
  },
  "language_info": {
   "codemirror_mode": {
    "name": "ipython",
    "version": 3
   },
   "file_extension": ".py",
   "mimetype": "text/x-python",
   "name": "python",
   "nbconvert_exporter": "python",
   "pygments_lexer": "ipython3",
   "version": "3.8.3"
  },
  "latex_envs": {
   "LaTeX_envs_menu_present": true,
   "autoclose": false,
   "autocomplete": true,
   "bibliofile": "biblio.bib",
   "cite_by": "apalike",
   "current_citInitial": 1,
   "eqLabelWithNumbers": true,
   "eqNumInitial": 1,
   "hotkeys": {
    "equation": "Ctrl-E",
    "itemize": "Ctrl-I"
   },
   "labels_anchors": false,
   "latex_user_defs": false,
   "report_style_numbering": false,
   "user_envs_cfg": false
  },
  "toc": {
   "base_numbering": 1,
   "nav_menu": {},
   "number_sections": true,
   "sideBar": true,
   "skip_h1_title": false,
   "title_cell": "Table of Contents",
   "title_sidebar": "Contents",
   "toc_cell": false,
   "toc_position": {},
   "toc_section_display": true,
   "toc_window_display": false
  }
 },
 "nbformat": 4,
 "nbformat_minor": 4
}
