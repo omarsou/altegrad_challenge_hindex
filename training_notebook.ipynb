{
 "cells": [
  {
   "cell_type": "code",
   "execution_count": 1,
   "metadata": {
    "colab": {
     "base_uri": "https://localhost:8080/"
    },
    "executionInfo": {
     "elapsed": 20540,
     "status": "ok",
     "timestamp": 1614626525148,
     "user": {
      "displayName": "Omar US",
      "photoUrl": "",
      "userId": "02556879631367095259"
     },
     "user_tz": -60
    },
    "id": "uorl5g6cPTix",
    "outputId": "5c0577ec-48d7-4ff8-edd4-38f9d9f26e15"
   },
   "outputs": [
    {
     "name": "stdout",
     "output_type": "stream",
     "text": [
      "Mounted at /content/drive\n"
     ]
    }
   ],
   "source": [
    "from google.colab import drive\n",
    "drive.mount('/content/drive')"
   ]
  },
  {
   "cell_type": "code",
   "execution_count": 2,
   "metadata": {
    "ExecuteTime": {
     "end_time": "2021-03-01T15:53:48.375449Z",
     "start_time": "2021-03-01T15:53:48.371485Z"
    },
    "executionInfo": {
     "elapsed": 6977,
     "status": "ok",
     "timestamp": 1614626800021,
     "user": {
      "displayName": "Omar US",
      "photoUrl": "",
      "userId": "02556879631367095259"
     },
     "user_tz": -60
    },
    "id": "gwsWlc-2O31v"
   },
   "outputs": [],
   "source": [
    "import sys\n",
    "sys.path.insert(0,'/content/drive/MyDrive/altegrad_datachallenge')\n",
    "from src.dataloader import load_data\n",
    "import torch\n",
    "from torchtext import data\n",
    "from src.model import build_model\n",
    "from src.train_manager import TrainManager\n",
    "import numpy as np\n",
    "import random"
   ]
  },
  {
   "cell_type": "markdown",
   "metadata": {},
   "source": [
    "# Doc2Vec"
   ]
  },
  {
   "cell_type": "code",
   "execution_count": 74,
   "metadata": {
    "ExecuteTime": {
     "end_time": "2021-03-01T16:00:09.732620Z",
     "start_time": "2021-03-01T16:00:09.725742Z"
    },
    "executionInfo": {
     "elapsed": 775,
     "status": "ok",
     "timestamp": 1614634190109,
     "user": {
      "displayName": "Omar US",
      "photoUrl": "",
      "userId": "02556879631367095259"
     },
     "user_tz": -60
    },
    "id": "YM8JBCKhO312"
   },
   "outputs": [],
   "source": [
    "def set_seed(seed: int, random_seed: int):\n",
    "    \"\"\"\n",
    "    Set the random seed for modules torch, numpy and random.\n",
    "    :param seed: random seed\n",
    "    \"\"\"\n",
    "    torch.manual_seed(seed)\n",
    "    np.random.seed(seed)\n",
    "    random.seed(random_seed)\n",
    "\n",
    "class Config:\n",
    "    def __init__(self, name_model):\n",
    "        self.model_dir = \"/content/drive/MyDrive/altegrad_datachallenge/\"\n",
    "        self.data_path = \"data\"\n",
    "        self.splitpaths = ['d2v.train', 'd2v.valid', 'd2v.test']\n",
    "        self.seed = 42\n",
    "        self.author_dim = 128\n",
    "        self.paper_dim = 256\n",
    "        self.use_cuda = True\n",
    "        # Training Parameters\n",
    "        self.epochs = 60\n",
    "        self.batch_size = 64\n",
    "        self.eval_batch_size = 64\n",
    "        self.validation_freq = 150\n",
    "        self.training_freq = 50\n",
    "        # Learning Rate Tunable\n",
    "        self.lr = 0.0007\n",
    "        self.patience = 1\n",
    "        self.factor = 0.8\n",
    "        # Model\n",
    "        self.num_heads = 8\n",
    "        self.num_layers = 2\n",
    "        self.dropout = 0.4\n",
    "        self.name_model = name_model"
   ]
  },
  {
   "cell_type": "code",
   "execution_count": 72,
   "metadata": {
    "ExecuteTime": {
     "end_time": "2021-03-01T16:00:10.477345Z",
     "start_time": "2021-03-01T16:00:10.456339Z"
    },
    "collapsed": true,
    "executionInfo": {
     "elapsed": 922,
     "status": "ok",
     "timestamp": 1614633816354,
     "user": {
      "displayName": "Omar US",
      "photoUrl": "",
      "userId": "02556879631367095259"
     },
     "user_tz": -60
    },
    "id": "FHHRB-2ZO313"
   },
   "outputs": [],
   "source": [
    "cfg_data = Config(None)\n",
    "train_data, dev_data = load_data(cfg_data)\n",
    "total_data = data.Dataset(train_data.examples + dev_data.examples, train_data.fields)"
   ]
  },
  {
   "cell_type": "markdown",
   "metadata": {
    "id": "MFcf1z7fO314"
   },
   "source": [
    "**In order to do a ensemble model, we are going to split in 5 different way the labeled data into train/dev split.\n",
    "We can add more but we just need to insure that they have approximately the same performance.**"
   ]
  },
  {
   "cell_type": "code",
   "execution_count": null,
   "metadata": {
    "id": "2pukz8GRpwDT"
   },
   "outputs": [],
   "source": [
    "cfg = Config(f'model_d2v_normal')\n",
    "model = build_model(cfg)\n",
    "trainer = TrainManager(model, cfg)\n",
    "trainer.train_and_validate(train_data, dev_data)"
   ]
  },
  {
   "cell_type": "code",
   "execution_count": null,
   "metadata": {
    "id": "o4dtgzVSO315"
   },
   "outputs": [],
   "source": [
    "split_seeds = [0, 5, 10, 15]\n",
    "for split_seed in split_seeds:\n",
    "    cfg = Config(f'model_d2v_{split_seed}')\n",
    "    set_seed(cfg.seed, split_seed)\n",
    "    train_data_, dev_data_ = total_data.split(split_ratio=0.9, random_state=random.getstate())\n",
    "    model = build_model(cfg)\n",
    "    trainer = TrainManager(model, cfg)\n",
    "    trainer.train_and_validate(train_data_, dev_data_)"
   ]
  },
  {
   "cell_type": "markdown",
   "metadata": {},
   "source": [
    "# SentenceTransformers"
   ]
  },
  {
   "cell_type": "code",
   "execution_count": null,
   "metadata": {},
   "outputs": [],
   "source": [
    "def set_seed(seed: int, random_seed: int):\n",
    "    \"\"\"\n",
    "    Set the random seed for modules torch, numpy and random.\n",
    "    :param seed: random seed\n",
    "    \"\"\"\n",
    "    torch.manual_seed(seed)\n",
    "    np.random.seed(seed)\n",
    "    random.seed(random_seed)\n",
    "\n",
    "class Config:\n",
    "    def __init__(self, name_model):\n",
    "        self.model_dir = \"/content/drive/MyDrive/altegrad_datachallenge/\"\n",
    "        self.data_path = \"data\"\n",
    "        self.splitpaths = ['data.train', 'data.valid', 'data.test']\n",
    "        self.seed = 42\n",
    "        self.author_dim = 128\n",
    "        self.paper_dim = 256\n",
    "        self.use_cuda = True\n",
    "        # Training Parameters\n",
    "        self.epochs = 60\n",
    "        self.batch_size = 64\n",
    "        self.eval_batch_size = 64\n",
    "        self.validation_freq = 150\n",
    "        self.training_freq = 50\n",
    "        # Learning Rate Tunable\n",
    "        self.lr = 0.0007\n",
    "        self.patience = 1\n",
    "        self.factor = 0.8\n",
    "        # Model\n",
    "        self.num_heads = 8\n",
    "        self.num_layers = 2\n",
    "        self.dropout = 0.4\n",
    "        self.name_model = name_model"
   ]
  },
  {
   "cell_type": "code",
   "execution_count": null,
   "metadata": {},
   "outputs": [],
   "source": [
    "cfg_data = Config(None)\n",
    "train_data, dev_data = load_data(cfg_data)\n",
    "total_data = data.Dataset(train_data.examples + dev_data.examples, train_data.fields)"
   ]
  },
  {
   "cell_type": "code",
   "execution_count": null,
   "metadata": {},
   "outputs": [],
   "source": [
    "cfg = Config(f'model_ST_normal')\n",
    "model = build_model(cfg)\n",
    "trainer = TrainManager(model, cfg)\n",
    "trainer.train_and_validate(train_data, dev_data)"
   ]
  },
  {
   "cell_type": "code",
   "execution_count": null,
   "metadata": {},
   "outputs": [],
   "source": [
    "split_seeds = [0, 5, 10, 15]\n",
    "for split_seed in split_seeds:\n",
    "    cfg = Config(f'model_ST_{split_seed}')\n",
    "    set_seed(cfg.seed, split_seed)\n",
    "    train_data_, dev_data_ = total_data.split(split_ratio=0.9, random_state=random.getstate())\n",
    "    model = build_model(cfg)\n",
    "    trainer = TrainManager(model, cfg)\n",
    "    trainer.train_and_validate(train_data_, dev_data_)"
   ]
  }
 ],
 "metadata": {
  "accelerator": "GPU",
  "colab": {
   "collapsed_sections": [],
   "name": "training_notebook.ipynb",
   "provenance": []
  },
  "kernelspec": {
   "display_name": "Python 3",
   "language": "python",
   "name": "python3"
  },
  "latex_envs": {
   "LaTeX_envs_menu_present": true,
   "autoclose": false,
   "autocomplete": true,
   "bibliofile": "biblio.bib",
   "cite_by": "apalike",
   "current_citInitial": 1,
   "eqLabelWithNumbers": true,
   "eqNumInitial": 1,
   "hotkeys": {
    "equation": "Ctrl-E",
    "itemize": "Ctrl-I"
   },
   "labels_anchors": false,
   "latex_user_defs": false,
   "report_style_numbering": false,
   "user_envs_cfg": false
  },
  "toc": {
   "base_numbering": 1,
   "nav_menu": {},
   "number_sections": true,
   "sideBar": true,
   "skip_h1_title": false,
   "title_cell": "Table of Contents",
   "title_sidebar": "Contents",
   "toc_cell": false,
   "toc_position": {},
   "toc_section_display": true,
   "toc_window_display": false
  }
 },
 "nbformat": 4,
 "nbformat_minor": 1
}
