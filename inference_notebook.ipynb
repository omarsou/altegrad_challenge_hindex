{
 "cells": [
  {
   "cell_type": "code",
   "execution_count": 1,
   "metadata": {
    "colab": {
     "base_uri": "https://localhost:8080/"
    },
    "executionInfo": {
     "elapsed": 24,
     "status": "ok",
     "timestamp": 1614634842412,
     "user": {
      "displayName": "Omar US",
      "photoUrl": "",
      "userId": "02556879631367095259"
     },
     "user_tz": -60
    },
    "id": "AhyFtBOru9kV",
    "outputId": "59a3e00c-9e38-47db-d0a5-30160e6eec7c"
   },
   "outputs": [
    {
     "name": "stdout",
     "output_type": "stream",
     "text": [
      "Mounted at /content/drive\n"
     ]
    }
   ],
   "source": [
    "from google.colab import drive\n",
    "drive.mount('/content/drive')"
   ]
  },
  {
   "cell_type": "code",
   "execution_count": 1,
   "metadata": {
    "ExecuteTime": {
     "end_time": "2021-03-01T16:20:51.292600Z",
     "start_time": "2021-03-01T16:20:50.300099Z"
    },
    "executionInfo": {
     "elapsed": 2861,
     "status": "ok",
     "timestamp": 1614635261781,
     "user": {
      "displayName": "Omar US",
      "photoUrl": "",
      "userId": "02556879631367095259"
     },
     "user_tz": -60
    },
    "id": "-BYVsCRxuwpJ"
   },
   "outputs": [],
   "source": [
    "import sys\n",
    "sys.path.insert(0,'/content/drive/MyDrive/altegrad_datachallenge')\n",
    "from src.inference_manager import TestManager\n",
    "from src.dataloader import load_data\n",
    "from src.model import build_model\n",
    "import torch\n",
    "import pandas as pd"
   ]
  },
  {
   "cell_type": "markdown",
   "metadata": {},
   "source": [
    "# D2V Submission"
   ]
  },
  {
   "cell_type": "code",
   "execution_count": 2,
   "metadata": {
    "executionInfo": {
     "elapsed": 3031,
     "status": "ok",
     "timestamp": 1614635266213,
     "user": {
      "displayName": "Omar US",
      "photoUrl": "",
      "userId": "02556879631367095259"
     },
     "user_tz": -60
    },
    "id": "4WPsOyUVuwpO"
   },
   "outputs": [],
   "source": [
    "class Config:\n",
    "    def __init__(self, name_model):\n",
    "        self.model_dir = \"/content/drive/MyDrive/altegrad_datachallenge/\"\n",
    "        self.data_path = \"data\"\n",
    "        self.splitpaths = ['d2v.train', 'd2v.valid', 'd2v.test']\n",
    "        self.seed = 42\n",
    "        self.author_dim = 128\n",
    "        self.paper_dim = 256\n",
    "        self.use_cuda = True\n",
    "        # Training Parameters\n",
    "        self.epochs = 60\n",
    "        self.batch_size = 64\n",
    "        self.eval_batch_size = 64\n",
    "        self.validation_freq = 150\n",
    "        self.training_freq = 50\n",
    "        # Learning Rate Tunable\n",
    "        self.lr = 0.0007\n",
    "        self.patience = 1\n",
    "        self.factor = 0.8\n",
    "        # Model\n",
    "        self.num_heads = 8\n",
    "        self.num_layers = 2\n",
    "        self.dropout = 0.4\n",
    "        self.name_model = name_model\n",
    "\n",
    "def load_checkpoint(cfg, name):\n",
    "    model_path = \"{}/{}.ckpt\".format(cfg.model_dir, name)\n",
    "    checkpoint = torch.load(model_path, map_location=\"cuda\" if cfg.use_cuda else \"cpu\")\n",
    "    return checkpoint"
   ]
  },
  {
   "cell_type": "code",
   "execution_count": 3,
   "metadata": {
    "executionInfo": {
     "elapsed": 67455,
     "status": "ok",
     "timestamp": 1614635335195,
     "user": {
      "displayName": "Omar US",
      "photoUrl": "",
      "userId": "02556879631367095259"
     },
     "user_tz": -60
    },
    "id": "a2VbZbgYuwpO"
   },
   "outputs": [],
   "source": [
    "cfg = Config(None)\n",
    "test_data = load_data(cfg, training=False)"
   ]
  },
  {
   "cell_type": "code",
   "execution_count": 4,
   "metadata": {
    "ExecuteTime": {
     "end_time": "2021-03-01T16:24:05.196870Z",
     "start_time": "2021-03-01T16:24:05.191841Z"
    },
    "executionInfo": {
     "elapsed": 769,
     "status": "ok",
     "timestamp": 1614635452555,
     "user": {
      "displayName": "Omar US",
      "photoUrl": "",
      "userId": "02556879631367095259"
     },
     "user_tz": -60
    },
    "id": "e4plXdgBuwpO"
   },
   "outputs": [],
   "source": [
    "all_predictions = []\n",
    "split_seeds = ['normal', 0, 5, 10, 15]\n",
    "names_model_d2v = [f'model_d2v_{split_seed}' for split_seed in split_seeds]"
   ]
  },
  {
   "cell_type": "code",
   "execution_count": 5,
   "metadata": {
    "colab": {
     "base_uri": "https://localhost:8080/"
    },
    "executionInfo": {
     "elapsed": 173073,
     "status": "ok",
     "timestamp": 1614635632548,
     "user": {
      "displayName": "Omar US",
      "photoUrl": "",
      "userId": "02556879631367095259"
     },
     "user_tz": -60
    },
    "id": "4lOhvTptuwpP",
    "outputId": "ac8b7f33-f93d-4e66-9a53-d6f9ed8dc26f"
   },
   "outputs": [
    {
     "name": "stderr",
     "output_type": "stream",
     "text": [
      "/content/drive/MyDrive/altegrad_datachallenge/src/model.py:41: UserWarning: nn.init.xavier_uniform is now deprecated in favor of nn.init.xavier_uniform_.\n",
      "  torch.nn.init.xavier_uniform(m.weight)\n",
      "/usr/local/lib/python3.7/dist-packages/torchtext/data/field.py:323: UserWarning: To copy construct from a tensor, it is recommended to use sourceTensor.clone().detach() or sourceTensor.clone().detach().requires_grad_(True), rather than torch.tensor(sourceTensor).\n",
      "  var = torch.tensor(arr, dtype=self.dtype, device=device)\n"
     ]
    }
   ],
   "source": [
    "for name_model in names_model_d2v:\n",
    "    cfg = Config(name_model)\n",
    "    model = build_model(cfg)\n",
    "    checkpoint = load_checkpoint(cfg, name_model)\n",
    "    model.load_state_dict(checkpoint['model_state'])\n",
    "    test_manager = TestManager(model, cfg)\n",
    "    predictions, id_author = test_manager.predict(test_data)\n",
    "    ids_authors = [id_ for ids in id_author for id_ in ids]\n",
    "    predictions_flatten = [pred.flatten() for pred in predictions]\n",
    "    predictions_flattened = [y for ys in predictions_flatten for y in ys]\n",
    "    all_predictions.append(predictions_flattened)"
   ]
  },
  {
   "cell_type": "code",
   "execution_count": 7,
   "metadata": {
    "executionInfo": {
     "elapsed": 2685,
     "status": "ok",
     "timestamp": 1614635676596,
     "user": {
      "displayName": "Omar US",
      "photoUrl": "",
      "userId": "02556879631367095259"
     },
     "user_tz": -60
    },
    "id": "wqmuPYIouwpP"
   },
   "outputs": [],
   "source": [
    "# Ensemble predictions with the average strategy\n",
    "average_predictions = []\n",
    "for i in range(len(ids_authors)):\n",
    "    avg_prd = 0\n",
    "    for j in range(len(names_model)):\n",
    "        avg_prd += all_predictions[j][i]\n",
    "    average_pred = round(avg_prd/len(names_model), 5)\n",
    "    average_predictions.append(average_pred)"
   ]
  },
  {
   "cell_type": "code",
   "execution_count": 11,
   "metadata": {
    "executionInfo": {
     "elapsed": 2727,
     "status": "ok",
     "timestamp": 1614635727866,
     "user": {
      "displayName": "Omar US",
      "photoUrl": "",
      "userId": "02556879631367095259"
     },
     "user_tz": -60
    },
    "id": "eV7-Qoc7uwpP"
   },
   "outputs": [],
   "source": [
    "submissions = pd.DataFrame({\"authorID\": ids_authors,\"h_index_pred\": average_predictions})\n",
    "submissions.to_csv('/content/drive/MyDrive/altegrad_datachallenge/ensemble_model_d2v.csv', index=False)"
   ]
  },
  {
   "cell_type": "markdown",
   "metadata": {},
   "source": [
    "# ST Submissions"
   ]
  },
  {
   "cell_type": "code",
   "execution_count": null,
   "metadata": {},
   "outputs": [],
   "source": [
    "class Config:\n",
    "    def __init__(self, name_model):\n",
    "        self.model_dir = \"/content/drive/MyDrive/altegrad_datachallenge/\"\n",
    "        self.data_path = \"data\"\n",
    "        self.splitpaths = ['data.train', 'data.valid', 'data.test']\n",
    "        self.seed = 42\n",
    "        self.author_dim = 128\n",
    "        self.paper_dim = 256\n",
    "        self.use_cuda = True\n",
    "        # Training Parameters\n",
    "        self.epochs = 60\n",
    "        self.batch_size = 64\n",
    "        self.eval_batch_size = 64\n",
    "        self.validation_freq = 150\n",
    "        self.training_freq = 50\n",
    "        # Learning Rate Tunable\n",
    "        self.lr = 0.0007\n",
    "        self.patience = 1\n",
    "        self.factor = 0.8\n",
    "        # Model\n",
    "        self.num_heads = 8\n",
    "        self.num_layers = 2\n",
    "        self.dropout = 0.4\n",
    "        self.name_model = name_model\n",
    "\n",
    "def load_checkpoint(cfg, name):\n",
    "    model_path = \"{}/{}.ckpt\".format(cfg.model_dir, name)\n",
    "    checkpoint = torch.load(model_path, map_location=\"cuda\" if cfg.use_cuda else \"cpu\")\n",
    "    return checkpoint"
   ]
  },
  {
   "cell_type": "code",
   "execution_count": null,
   "metadata": {},
   "outputs": [],
   "source": [
    "cfg = Config(None)\n",
    "test_data = load_data(cfg, training=False)"
   ]
  },
  {
   "cell_type": "code",
   "execution_count": null,
   "metadata": {},
   "outputs": [],
   "source": [
    "all_predictions = []\n",
    "split_seeds = ['normal', 0, 5, 10, 15]\n",
    "names_model_ST = [f'model_ST_{split_seed}' for split_seed in split_seeds]"
   ]
  },
  {
   "cell_type": "code",
   "execution_count": null,
   "metadata": {},
   "outputs": [],
   "source": [
    "for name_model in names_model_ST:\n",
    "    cfg = Config(name_model)\n",
    "    model = build_model(cfg)\n",
    "    checkpoint = load_checkpoint(cfg, name_model)\n",
    "    model.load_state_dict(checkpoint['model_state'])\n",
    "    test_manager = TestManager(model, cfg)\n",
    "    predictions, id_author = test_manager.predict(test_data)\n",
    "    ids_authors = [id_ for ids in id_author for id_ in ids]\n",
    "    predictions_flatten = [pred.flatten() for pred in predictions]\n",
    "    predictions_flattened = [y for ys in predictions_flatten for y in ys]\n",
    "    all_predictions.append(predictions_flattened)"
   ]
  },
  {
   "cell_type": "code",
   "execution_count": null,
   "metadata": {},
   "outputs": [],
   "source": [
    "# Ensemble predictions with the average strategy\n",
    "average_predictions = []\n",
    "for i in range(len(ids_authors)):\n",
    "    avg_prd = 0\n",
    "    for j in range(len(names_model)):\n",
    "        avg_prd += all_predictions[j][i]\n",
    "    average_pred = round(avg_prd/len(names_model), 5)\n",
    "    average_predictions.append(average_pred)"
   ]
  },
  {
   "cell_type": "code",
   "execution_count": null,
   "metadata": {},
   "outputs": [],
   "source": [
    "submissions = pd.DataFrame({\"authorID\": ids_authors,\"h_index_pred\": average_predictions})\n",
    "submissions.to_csv('/content/drive/MyDrive/altegrad_datachallenge/ensemble_model_ST.csv', index=False)"
   ]
  },
  {
   "cell_type": "markdown",
   "metadata": {},
   "source": [
    "# D2V + ST"
   ]
  },
  {
   "cell_type": "code",
   "execution_count": null,
   "metadata": {},
   "outputs": [],
   "source": [
    "d2v = pd.read_csv('/content/drive/MyDrive/altegrad_datachallenge/ensemble_model_d2v.csv')\n",
    "st = pd.read_csv('/content/drive/MyDrive/altegrad_datachallenge/ensemble_model_ST.csv')\n",
    "final_prediction = (d2v.h_index_pred + st.h_index_pred)/2\n",
    "final_submission = pd.DataFrame({\"authorID\": d2v.ids_authors,\"h_index_pred\": final_prediction})\n",
    "final_submission.to_csv('/content/drive/MyDrive/altegrad_datachallenge/ensemble_model.csv', index=False)"
   ]
  }
 ],
 "metadata": {
  "accelerator": "GPU",
  "colab": {
   "collapsed_sections": [],
   "name": "inference_notebook.ipynb",
   "provenance": []
  },
  "kernelspec": {
   "display_name": "Python 3",
   "language": "python",
   "name": "python3"
  },
  "language_info": {
   "codemirror_mode": {
    "name": "ipython",
    "version": 3
   },
   "file_extension": ".py",
   "mimetype": "text/x-python",
   "name": "python",
   "nbconvert_exporter": "python",
   "pygments_lexer": "ipython3",
   "version": "3.8.3"
  },
  "latex_envs": {
   "LaTeX_envs_menu_present": true,
   "autoclose": false,
   "autocomplete": true,
   "bibliofile": "biblio.bib",
   "cite_by": "apalike",
   "current_citInitial": 1,
   "eqLabelWithNumbers": true,
   "eqNumInitial": 1,
   "hotkeys": {
    "equation": "Ctrl-E",
    "itemize": "Ctrl-I"
   },
   "labels_anchors": false,
   "latex_user_defs": false,
   "report_style_numbering": false,
   "user_envs_cfg": false
  },
  "toc": {
   "base_numbering": 1,
   "nav_menu": {},
   "number_sections": true,
   "sideBar": true,
   "skip_h1_title": false,
   "title_cell": "Table of Contents",
   "title_sidebar": "Contents",
   "toc_cell": false,
   "toc_position": {},
   "toc_section_display": true,
   "toc_window_display": false
  }
 },
 "nbformat": 4,
 "nbformat_minor": 1
}
